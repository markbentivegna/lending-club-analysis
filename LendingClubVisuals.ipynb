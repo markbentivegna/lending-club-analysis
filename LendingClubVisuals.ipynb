{
  "nbformat": 4,
  "nbformat_minor": 0,
  "metadata": {
    "colab": {
      "name": "LendingClubVisuals.ipynb",
      "provenance": []
    },
    "kernelspec": {
      "name": "python3",
      "display_name": "Python 3"
    }
  },
  "cells": [
    {
      "cell_type": "code",
      "metadata": {
        "colab": {
          "base_uri": "https://localhost:8080/"
        },
        "id": "0Vq-WxzLPj1Y",
        "outputId": "6b246959-d931-4459-b2a9-cf587fa24dfb"
      },
      "source": [
        "import pandas as pd\n",
        "import matplotlib.pyplot as plt\n",
        "accepted_df = pd.read_csv('accepted_2007_to_2018Q4.csv')\n",
        "drop_columns = ['member_id','desc','mths_since_last_delinq','mths_since_last_record','next_pymnt_d','mths_since_last_major_derog','annual_inc_joint','dti_joint','verification_status_joint','il_util','mths_since_recent_bc_dlq','mths_since_recent_revol_delinq','revol_bal_joint','sec_app_fico_range_low','sec_app_fico_range_high','sec_app_earliest_cr_line','sec_app_inq_last_6mths','sec_app_mort_acc','sec_app_open_acc','sec_app_revol_util','sec_app_open_act_il','sec_app_num_rev_accts','sec_app_chargeoff_within_12_mths','sec_app_collections_12_mths_ex_med','sec_app_mths_since_last_major_derog','hardship_type','hardship_reason','hardship_status','deferral_term','hardship_amount','hardship_start_date','hardship_end_date','payment_plan_start_date','hardship_length','hardship_dpd','hardship_loan_status','orig_projected_additional_accrued_interest','hardship_payoff_balance_amount','hardship_last_payment_amount','debt_settlement_flag_date','settlement_status','settlement_date','settlement_amount','settlement_percentage','settlement_term','url']\n",
        "accepted_df.drop(drop_columns, axis=1, inplace=True)\n",
        "accepted_df.dropna(inplace=True)\n",
        "low = 0.05\n",
        "high = 0.95\n"
      ],
      "execution_count": 3,
      "outputs": [
        {
          "output_type": "stream",
          "text": [
            "/usr/local/lib/python3.6/dist-packages/IPython/core/interactiveshell.py:2718: DtypeWarning: Columns (19) have mixed types.Specify dtype option on import or set low_memory=False.\n",
            "  interactivity=interactivity, compiler=compiler, result=result)\n"
          ],
          "name": "stderr"
        }
      ]
    },
    {
      "cell_type": "code",
      "metadata": {
        "colab": {
          "base_uri": "https://localhost:8080/",
          "height": 281
        },
        "id": "efp01dGEPziC",
        "outputId": "89c57f7c-358a-41db-e4bc-52852f3779b3"
      },
      "source": [
        "plt.title(\"Annual Income Box Plot\")\n",
        "plt.boxplot(accepted_df['annual_inc'].quantile([low, high]))\n",
        "plt.show()\n"
      ],
      "execution_count": 4,
      "outputs": [
        {
          "output_type": "display_data",
          "data": {
            "image/png": "[encoded data removed]",
            "text/plain": [
              "<Figure size 432x288 with 1 Axes>"
            ]
          },
          "metadata": {
            "tags": [],
            "needs_background": "light"
          }
        }
      ]
    },
    {
      "cell_type": "markdown",
      "metadata": {
        "id": "hjsTfqnQP-_B"
      },
      "source": [
        "Above, we see a box plot of annual income grouped into quartiles with outliers removed. I removed the top and bottom 5% because there are significant outliers that skew the results, particularly on the upper bounds. We see that the mean approval income is 100,000 with the upper quartile in the range of 120,000-160,000. The quartiles are relatively evenly spaced out."
      ]
    },
    {
      "cell_type": "code",
      "metadata": {
        "colab": {
          "base_uri": "https://localhost:8080/"
        },
        "id": "RzP6A8k6P5Vr",
        "outputId": "9e3e4727-4dc7-4ee9-ccc7-079291ed58a2"
      },
      "source": [
        "accepted_df['annual_inc'].describe()"
      ],
      "execution_count": 5,
      "outputs": [
        {
          "output_type": "execute_result",
          "data": {
            "text/plain": [
              "count    1.653600e+04\n",
              "mean     8.069633e+04\n",
              "std      5.702182e+04\n",
              "min      9.600000e+03\n",
              "25%      5.000000e+04\n",
              "50%      7.000000e+04\n",
              "75%      9.723550e+04\n",
              "max      2.500000e+06\n",
              "Name: annual_inc, dtype: float64"
            ]
          },
          "metadata": {
            "tags": []
          },
          "execution_count": 5
        }
      ]
    },
    {
      "cell_type": "markdown",
      "metadata": {
        "id": "Qv78-omkQYKd"
      },
      "source": [
        "Above, we look at a description of the row validating what we saw in the above group but with one new addition: the max. The max is very large compared to the rest of the incomes meaning there is at least one major outlier."
      ]
    },
    {
      "cell_type": "code",
      "metadata": {
        "colab": {
          "base_uri": "https://localhost:8080/",
          "height": 281
        },
        "id": "sJvdg7szQwYQ",
        "outputId": "33306331-0271-440e-d8a0-e73f17a38cf2"
      },
      "source": [
        "plt.title(\"FICO Range Box Plot\")\n",
        "plt.boxplot([accepted_df['fico_range_high'], accepted_df['fico_range_low']])\n",
        "plt.show()\n"
      ],
      "execution_count": 6,
      "outputs": [
        {
          "output_type": "display_data",
          "data": {
            "image/png": "[encoded data removed]",
            "text/plain": [
              "<Figure size 432x288 with 1 Axes>"
            ]
          },
          "metadata": {
            "tags": [],
            "needs_background": "light"
          }
        }
      ]
    },
    {
      "cell_type": "markdown",
      "metadata": {
        "id": "EpdidKh7Q3sA"
      },
      "source": [
        "We look at a box plot of the ranges of FICO scores, with high on the left and low on the right. We see little difference telling us that those approved for loans have consistently good FICO scores."
      ]
    },
    {
      "cell_type": "code",
      "metadata": {
        "colab": {
          "base_uri": "https://localhost:8080/"
        },
        "id": "bDTB0H2SQzcz",
        "outputId": "62b79b16-2569-4911-ede5-84a7e150f696"
      },
      "source": [
        "accepted_df['fico_range_high'].describe()"
      ],
      "execution_count": 8,
      "outputs": [
        {
          "output_type": "execute_result",
          "data": {
            "text/plain": [
              "count    16536.000000\n",
              "mean       698.343674\n",
              "std         30.599250\n",
              "min        664.000000\n",
              "25%        674.000000\n",
              "50%        689.000000\n",
              "75%        714.000000\n",
              "max        850.000000\n",
              "Name: fico_range_high, dtype: float64"
            ]
          },
          "metadata": {
            "tags": []
          },
          "execution_count": 8
        }
      ]
    },
    {
      "cell_type": "code",
      "metadata": {
        "colab": {
          "base_uri": "https://localhost:8080/"
        },
        "id": "w3emfnPNQ5p7",
        "outputId": "711b2c05-a9b0-4034-99ec-5719f7be18da"
      },
      "source": [
        "accepted_df['fico_range_low'].describe()"
      ],
      "execution_count": 9,
      "outputs": [
        {
          "output_type": "execute_result",
          "data": {
            "text/plain": [
              "count    16536.000000\n",
              "mean       694.343553\n",
              "std         30.598653\n",
              "min        660.000000\n",
              "25%        670.000000\n",
              "50%        685.000000\n",
              "75%        710.000000\n",
              "max        845.000000\n",
              "Name: fico_range_low, dtype: float64"
            ]
          },
          "metadata": {
            "tags": []
          },
          "execution_count": 9
        }
      ]
    },
    {
      "cell_type": "markdown",
      "metadata": {
        "id": "bHTjQjcORFFZ"
      },
      "source": [
        "Looking at a description of the two columns we are comparing validates what we saw in the graph. We see. similar mean and standard deviation telling us that the distribution for the two is very similar. Going through the four quartiles tells a similar story. "
      ]
    },
    {
      "cell_type": "code",
      "metadata": {
        "colab": {
          "base_uri": "https://localhost:8080/",
          "height": 281
        },
        "id": "qV-QFEaCRXMQ",
        "outputId": "ca91213b-01e6-49cd-bdb8-cbc8585f89ed"
      },
      "source": [
        "plt.title(\"Funded Amount Box Plot\")\n",
        "plt.boxplot(accepted_df['funded_amnt'].quantile([low, high]))\n",
        "plt.show()"
      ],
      "execution_count": 10,
      "outputs": [
        {
          "output_type": "display_data",
          "data": {
            "image/png": "[encoded data removed]",
            "text/plain": [
              "<Figure size 432x288 with 1 Axes>"
            ]
          },
          "metadata": {
            "tags": [],
            "needs_background": "light"
          }
        }
      ]
    },
    {
      "cell_type": "markdown",
      "metadata": {
        "id": "zs9VzTKdRcHT"
      },
      "source": [
        "Above we have a box plot of the funded amount for loans in the dataset with outliers removed. Similar to the annual income box, we see the quartiles are relatively evenly spaced out with a mean around 20,000. "
      ]
    },
    {
      "cell_type": "code",
      "metadata": {
        "colab": {
          "base_uri": "https://localhost:8080/"
        },
        "id": "MbcDT--sRZEC",
        "outputId": "5c2ba73c-b576-47d6-b502-0290a30cca47"
      },
      "source": [
        "accepted_df['funded_amnt'].describe()"
      ],
      "execution_count": 11,
      "outputs": [
        {
          "output_type": "execute_result",
          "data": {
            "text/plain": [
              "count    16536.000000\n",
              "mean     15280.819122\n",
              "std       8741.944785\n",
              "min       1000.000000\n",
              "25%       8100.000000\n",
              "50%      14000.000000\n",
              "75%      20400.000000\n",
              "max      35000.000000\n",
              "Name: funded_amnt, dtype: float64"
            ]
          },
          "metadata": {
            "tags": []
          },
          "execution_count": 11
        }
      ]
    },
    {
      "cell_type": "markdown",
      "metadata": {
        "id": "cDG7nPYJRyxh"
      },
      "source": [
        "In the description above we see something that we have outliers on the lower end of the spectrum, unlike annual income. The minimum loan is for 1,000 and 25 percentile is at 8,100, significantly lower than the 25 percentile value of over 12,000 in the plot above. This repeats for all percentiles and we notice a higher disparity in the 50 and 75 percentiles. "
      ]
    }
  ]
}